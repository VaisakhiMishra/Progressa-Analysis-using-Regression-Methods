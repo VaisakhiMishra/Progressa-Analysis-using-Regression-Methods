{
 "cells": [
  {
   "cell_type": "raw",
   "metadata": {
    "ein.tags": [
     "worksheet-0"
    ],
    "slideshow": {
     "slide_type": "-"
    }
   },
   "source": [
    "# Progresa Dataset Analysis"
   ]
  },
  {
   "cell_type": "markdown",
   "metadata": {
    "ein.tags": [
     "worksheet-0"
    ],
    "slideshow": {
     "slide_type": "-"
    }
   },
   "source": [
    "## Introduction\n",
    "\n",
    "For this analysis, you will be using data from the [Progresa program](http://en.wikipedia.org/wiki/Oportunidades), a government social assistance program in Mexico. This program, as well as the details of its impact, are described in the paper \"[School subsidies for the poor: evaluating the Mexican Progresa poverty program](http://www.sciencedirect.com/science/article/pii/S0304387803001858)\", by Paul Shultz (available on Canvas). Please familiarize yourself with the PROGRESA program before beginning, so you have a rough sense of where the data come from and how they were generated.\n",
    "\n",
    "The goal here is to implement some of the basic econometric techniques to measure the impact of Progresa on secondary school enrollment rates. The timeline of the program was:\n",
    "\n",
    " * Baseline survey conducted in 1997\n",
    " * Intervention begins in 1998, \"Wave 1\" of data collected in 1998\n",
    " * \"Wave 2 of data\" collected in 1999\n",
    " * Evaluation ends in 2000, at which point the control villages were treated. \n",
    " \n",
    "When you are ready, download the progresa_sample.csv data. The data is actual data collected to evaluate the impact of the Progresa program.  In this file, each row corresponds to an observation taken for a given child for a given year. There are two years of data (1997 and 1998), and just under 40,000 children who are surveyed in each year. For each child-year observation, the following variables are collected:\n",
    "\n",
    "| Variable name | Description|\n",
    "|---------|---------|\n",
    "|year\t  |year in which data is collected\n",
    "|sex\t  |male = 1|\n",
    "|indig\t  |indigenous = 1|\n",
    "|dist_sec |nearest distance to a secondary school|\n",
    "|sc\t      |enrolled in school in year of survey|\n",
    "|grc      |grade enrolled|\n",
    "|fam_n    |family size|\n",
    "|min_dist |\tmin distance to an urban center|\n",
    "|dist_cap |\tmin distance to the capital|\n",
    "|poor     |\tpoor = 'pobre'|\n",
    "|progresa |treatment = 'basal'|\n",
    "|hohedu\t  |years of schooling of head of household|\n",
    "|hohwag\t  |monthly wages of head of household|\n",
    "|welfare_index|\twelfare index used to classify poor|\n",
    "|hohsex\t  |gender of head of household (male=1)|\n",
    "|hohage   |age of head of household|\n",
    "|age      |years old|\n",
    "|folnum\t  |individual id|\n",
    "|village  |\tvillage id|\n",
    "|sc97\t  |schooling in 1997|"
   ]
  },
  {
   "cell_type": "code",
   "execution_count": 229,
   "metadata": {
    "autoscroll": "json-false",
    "collapsed": false,
    "ein.tags": [
     "worksheet-0"
    ],
    "slideshow": {
     "slide_type": "-"
    }
   },
   "outputs": [
    {
     "name": "stdout",
     "output_type": "stream",
     "text": [
      "2.7.13 |Anaconda 4.3.1 (64-bit)| (default, Dec 19 2016, 13:29:36) [MSC v.1500 64 bit (AMD64)]\n"
     ]
    }
   ],
   "source": [
    "import pandas as pd\n",
    "import numpy as np\n",
    "import matplotlib.pyplot as plt\n",
    "import scipy.stats as sp\n",
    "import operator as op\n",
    "import statsmodels.formula.api as sm\n",
    "import sys; print(sys.version)\n",
    "%matplotlib inline\n"
   ]
  },
  {
   "cell_type": "markdown",
   "metadata": {
    "ein.tags": [
     "worksheet-0"
    ],
    "slideshow": {
     "slide_type": "-"
    }
   },
   "source": [
    "---\n",
    "##Part 1: Descriptive analysis\n",
    "\n",
    "### 1.1\tSummary Statistics\n",
    "\n",
    "a) Present number of missing observations for every single variable\n"
   ]
  },
  {
   "cell_type": "code",
   "execution_count": 72,
   "metadata": {
    "autoscroll": "json-false",
    "collapsed": false,
    "ein.tags": [
     "worksheet-0"
    ],
    "slideshow": {
     "slide_type": "-"
    }
   },
   "outputs": [
    {
     "name": "stdout",
     "output_type": "stream",
     "text": [
      "year                0\n",
      "sex                24\n",
      "indig             300\n",
      "dist_sec            0\n",
      "sc               8453\n",
      "grc              6549\n",
      "fam_n               0\n",
      "min_dist            0\n",
      "dist_cap            0\n",
      "poor                0\n",
      "progresa            0\n",
      "hohedu              0\n",
      "hohwag              0\n",
      "welfare_index     210\n",
      "hohsex             20\n",
      "hohage             10\n",
      "age                 0\n",
      "village             0\n",
      "folnum              0\n",
      "grc97               0\n",
      "sc97             3872\n",
      "dtype: int64\n"
     ]
    }
   ],
   "source": [
    "prog_df= pd.read_csv('progresa_sample.csv')\n",
    "print prog_df.isnull().sum()"
   ]
  },
  {
   "cell_type": "markdown",
   "metadata": {
    "ein.tags": [
     "worksheet-0"
    ],
    "slideshow": {
     "slide_type": "-"
    }
   },
   "source": [
    "b) Present summary statistics (mean and standard deviation) for all of the demographic variables in the dataset (i.e., everything except year, folnum, village). Present these in a single table alphabetized by variable name."
   ]
  },
  {
   "cell_type": "code",
   "execution_count": 60,
   "metadata": {
    "autoscroll": "json-false",
    "collapsed": false,
    "ein.tags": [
     "worksheet-0"
    ],
    "slideshow": {
     "slide_type": "-"
    }
   },
   "outputs": [
    {
     "data": {
      "text/html": [
       "<div>\n",
       "<table border=\"1\" class=\"dataframe\">\n",
       "  <thead>\n",
       "    <tr style=\"text-align: right;\">\n",
       "      <th></th>\n",
       "      <th>mean</th>\n",
       "      <th>std</th>\n",
       "    </tr>\n",
       "  </thead>\n",
       "  <tbody>\n",
       "    <tr>\n",
       "      <th>age</th>\n",
       "      <td>11.366460</td>\n",
       "      <td>3.167744</td>\n",
       "    </tr>\n",
       "    <tr>\n",
       "      <th>dist_cap</th>\n",
       "      <td>147.674452</td>\n",
       "      <td>76.063134</td>\n",
       "    </tr>\n",
       "    <tr>\n",
       "      <th>dist_sec</th>\n",
       "      <td>2.418910</td>\n",
       "      <td>2.234109</td>\n",
       "    </tr>\n",
       "    <tr>\n",
       "      <th>fam_n</th>\n",
       "      <td>7.215715</td>\n",
       "      <td>2.352900</td>\n",
       "    </tr>\n",
       "    <tr>\n",
       "      <th>grc</th>\n",
       "      <td>3.963537</td>\n",
       "      <td>2.499063</td>\n",
       "    </tr>\n",
       "    <tr>\n",
       "      <th>grc97</th>\n",
       "      <td>3.705372</td>\n",
       "      <td>2.572387</td>\n",
       "    </tr>\n",
       "    <tr>\n",
       "      <th>hohage</th>\n",
       "      <td>44.436717</td>\n",
       "      <td>11.620372</td>\n",
       "    </tr>\n",
       "    <tr>\n",
       "      <th>hohedu</th>\n",
       "      <td>2.768104</td>\n",
       "      <td>2.656106</td>\n",
       "    </tr>\n",
       "    <tr>\n",
       "      <th>hohsex</th>\n",
       "      <td>0.925185</td>\n",
       "      <td>0.263095</td>\n",
       "    </tr>\n",
       "    <tr>\n",
       "      <th>hohwag</th>\n",
       "      <td>586.985312</td>\n",
       "      <td>788.133664</td>\n",
       "    </tr>\n",
       "    <tr>\n",
       "      <th>indig</th>\n",
       "      <td>0.298324</td>\n",
       "      <td>0.457525</td>\n",
       "    </tr>\n",
       "    <tr>\n",
       "      <th>min_dist</th>\n",
       "      <td>103.447520</td>\n",
       "      <td>42.089441</td>\n",
       "    </tr>\n",
       "    <tr>\n",
       "      <th>sc</th>\n",
       "      <td>0.819818</td>\n",
       "      <td>0.384342</td>\n",
       "    </tr>\n",
       "    <tr>\n",
       "      <th>sc97</th>\n",
       "      <td>0.813922</td>\n",
       "      <td>0.389172</td>\n",
       "    </tr>\n",
       "    <tr>\n",
       "      <th>sex</th>\n",
       "      <td>0.512211</td>\n",
       "      <td>0.499854</td>\n",
       "    </tr>\n",
       "    <tr>\n",
       "      <th>welfare_index</th>\n",
       "      <td>690.346564</td>\n",
       "      <td>139.491130</td>\n",
       "    </tr>\n",
       "  </tbody>\n",
       "</table>\n",
       "</div>"
      ],
      "text/plain": [
       "                     mean         std\n",
       "age             11.366460    3.167744\n",
       "dist_cap       147.674452   76.063134\n",
       "dist_sec         2.418910    2.234109\n",
       "fam_n            7.215715    2.352900\n",
       "grc              3.963537    2.499063\n",
       "grc97            3.705372    2.572387\n",
       "hohage          44.436717   11.620372\n",
       "hohedu           2.768104    2.656106\n",
       "hohsex           0.925185    0.263095\n",
       "hohwag         586.985312  788.133664\n",
       "indig            0.298324    0.457525\n",
       "min_dist       103.447520   42.089441\n",
       "sc               0.819818    0.384342\n",
       "sc97             0.813922    0.389172\n",
       "sex              0.512211    0.499854\n",
       "welfare_index  690.346564  139.491130"
      ]
     },
     "execution_count": 60,
     "metadata": {},
     "output_type": "execute_result"
    }
   ],
   "source": [
    "prog_com_df = prog_df\n",
    "prog_com_df = prog_com_df.drop('year',axis=1)\n",
    "prog_com_df = prog_com_df.drop('folnum', axis=1)\n",
    "prog_com_df = prog_com_df.drop('village', axis=1)\n",
    "prog_com_df.describe().loc[['mean','std']].transpose().sort_index()"
   ]
  },
  {
   "cell_type": "markdown",
   "metadata": {
    "ein.tags": [
     "worksheet-0"
    ],
    "slideshow": {
     "slide_type": "-"
    }
   },
   "source": [
    "### 1.2 Differences at baseline?\n",
    "\n",
    "Are the baseline (1997) demographic characteristics **for the poor**  different in treatment and control villages? Hint: Use a T-Test to determine whether there is a statistically significant difference in the average values of each of the variables in the dataset. Focus only on the data from 1997 for individuals who are poor (i.e., poor=='pobre').\n",
    "\n",
    "Present your results in a single table with the following columns and 14 (or so) rows:\n",
    "\n",
    "| Variable name | Average value (Treatment villages) | Average value (Control villages) | Difference (Treat - Control) | p-value |\n",
    "|------|------|------|------|------|\n",
    "|Male  |?     |?     |?     |?     |\n"
   ]
  },
  {
   "cell_type": "code",
   "execution_count": 154,
   "metadata": {
    "autoscroll": "json-false",
    "collapsed": false,
    "ein.tags": [
     "worksheet-0"
    ],
    "slideshow": {
     "slide_type": "-"
    }
   },
   "outputs": [
    {
     "data": {
      "text/html": [
       "<div>\n",
       "<table border=\"1\" class=\"dataframe\">\n",
       "  <thead>\n",
       "    <tr style=\"text-align: right;\">\n",
       "      <th></th>\n",
       "      <th>Variable name</th>\n",
       "      <th>Average value (Treatment villages)_x</th>\n",
       "      <th>Average value (Treatment villages)_y</th>\n",
       "    </tr>\n",
       "  </thead>\n",
       "  <tbody>\n",
       "    <tr>\n",
       "      <th>0</th>\n",
       "      <td>age</td>\n",
       "      <td>10.716991</td>\n",
       "      <td>10.742023</td>\n",
       "    </tr>\n",
       "    <tr>\n",
       "      <th>1</th>\n",
       "      <td>dist_cap</td>\n",
       "      <td>150.829074</td>\n",
       "      <td>153.769730</td>\n",
       "    </tr>\n",
       "    <tr>\n",
       "      <th>2</th>\n",
       "      <td>dist_sec</td>\n",
       "      <td>2.453122</td>\n",
       "      <td>2.507662</td>\n",
       "    </tr>\n",
       "    <tr>\n",
       "      <th>3</th>\n",
       "      <td>fam_n</td>\n",
       "      <td>7.281327</td>\n",
       "      <td>7.302469</td>\n",
       "    </tr>\n",
       "    <tr>\n",
       "      <th>4</th>\n",
       "      <td>grc</td>\n",
       "      <td>3.531599</td>\n",
       "      <td>3.543050</td>\n",
       "    </tr>\n",
       "    <tr>\n",
       "      <th>5</th>\n",
       "      <td>grc97</td>\n",
       "      <td>3.531599</td>\n",
       "      <td>3.543050</td>\n",
       "    </tr>\n",
       "    <tr>\n",
       "      <th>6</th>\n",
       "      <td>hohage</td>\n",
       "      <td>43.648828</td>\n",
       "      <td>44.276918</td>\n",
       "    </tr>\n",
       "    <tr>\n",
       "      <th>7</th>\n",
       "      <td>hohedu</td>\n",
       "      <td>2.663139</td>\n",
       "      <td>2.590348</td>\n",
       "    </tr>\n",
       "    <tr>\n",
       "      <th>8</th>\n",
       "      <td>hohsex</td>\n",
       "      <td>0.924656</td>\n",
       "      <td>0.922947</td>\n",
       "    </tr>\n",
       "    <tr>\n",
       "      <th>9</th>\n",
       "      <td>hohwag</td>\n",
       "      <td>544.339544</td>\n",
       "      <td>573.163558</td>\n",
       "    </tr>\n",
       "    <tr>\n",
       "      <th>10</th>\n",
       "      <td>indig</td>\n",
       "      <td>0.325986</td>\n",
       "      <td>0.332207</td>\n",
       "    </tr>\n",
       "    <tr>\n",
       "      <th>11</th>\n",
       "      <td>min_dist</td>\n",
       "      <td>107.152915</td>\n",
       "      <td>103.237854</td>\n",
       "    </tr>\n",
       "    <tr>\n",
       "      <th>12</th>\n",
       "      <td>sc</td>\n",
       "      <td>0.822697</td>\n",
       "      <td>0.815186</td>\n",
       "    </tr>\n",
       "    <tr>\n",
       "      <th>13</th>\n",
       "      <td>sc97</td>\n",
       "      <td>0.822697</td>\n",
       "      <td>0.815186</td>\n",
       "    </tr>\n",
       "    <tr>\n",
       "      <th>14</th>\n",
       "      <td>sex</td>\n",
       "      <td>0.519317</td>\n",
       "      <td>0.505052</td>\n",
       "    </tr>\n",
       "    <tr>\n",
       "      <th>15</th>\n",
       "      <td>welfare_index</td>\n",
       "      <td>655.428377</td>\n",
       "      <td>659.579100</td>\n",
       "    </tr>\n",
       "  </tbody>\n",
       "</table>\n",
       "</div>"
      ],
      "text/plain": [
       "    Variable name  Average value (Treatment villages)_x  \\\n",
       "0             age                             10.716991   \n",
       "1        dist_cap                            150.829074   \n",
       "2        dist_sec                              2.453122   \n",
       "3           fam_n                              7.281327   \n",
       "4             grc                              3.531599   \n",
       "5           grc97                              3.531599   \n",
       "6          hohage                             43.648828   \n",
       "7          hohedu                              2.663139   \n",
       "8          hohsex                              0.924656   \n",
       "9          hohwag                            544.339544   \n",
       "10          indig                              0.325986   \n",
       "11       min_dist                            107.152915   \n",
       "12             sc                              0.822697   \n",
       "13           sc97                              0.822697   \n",
       "14            sex                              0.519317   \n",
       "15  welfare_index                            655.428377   \n",
       "\n",
       "    Average value (Treatment villages)_y  \n",
       "0                              10.742023  \n",
       "1                             153.769730  \n",
       "2                               2.507662  \n",
       "3                               7.302469  \n",
       "4                               3.543050  \n",
       "5                               3.543050  \n",
       "6                              44.276918  \n",
       "7                               2.590348  \n",
       "8                               0.922947  \n",
       "9                             573.163558  \n",
       "10                              0.332207  \n",
       "11                            103.237854  \n",
       "12                              0.815186  \n",
       "13                              0.815186  \n",
       "14                              0.505052  \n",
       "15                            659.579100  "
      ]
     },
     "execution_count": 154,
     "metadata": {},
     "output_type": "execute_result"
    }
   ],
   "source": [
    "treat_df = prog_df[(prog_df.progresa == 'basal')&(prog_df.year == 97)&(prog_df.poor == 'pobre')]\n",
    "control_df = prog_df[(prog_df.progresa != 'basal') & (prog_df.year == 97) & (prog_df.poor == 'pobre')]\n",
    "a = treat_df[treat_df.columns.difference(['year','folnum','village'])]\n",
    "a = a.describe().loc['mean']\n",
    "target_df = pd.DataFrame({'Variable name':a.index, 'Average value (Treatment villages)':a.values},\n",
    "                        columns = ['Variable name','Average value (Treatment villages)'])\n",
    "target_df\n",
    "\n",
    "b = control_df[control_df.columns.difference(['year','folnum','village'])]\n",
    "b = b.describe().loc['mean']\n",
    "target_df2 = pd.DataFrame({'Variable name':b.index, 'Average value (Treatment villages)':b.values},\n",
    "                        columns = ['Variable name','Average value (Treatment villages)'])\n",
    "target_df2\n",
    "\n",
    "final_df=pd.merge(target_df,target_df2, on = 'Variable name')\n",
    "final_df\n"
   ]
  },
  {
   "cell_type": "code",
   "execution_count": 201,
   "metadata": {
    "collapsed": false
   },
   "outputs": [
    {
     "data": {
      "text/html": [
       "<div>\n",
       "<table border=\"1\" class=\"dataframe\">\n",
       "  <thead>\n",
       "    <tr style=\"text-align: right;\">\n",
       "      <th></th>\n",
       "      <th>Variable name</th>\n",
       "      <th>Average value (Treatment villages)_x</th>\n",
       "      <th>Average value (Treatment villages)_y</th>\n",
       "      <th>p-value</th>\n",
       "    </tr>\n",
       "  </thead>\n",
       "  <tbody>\n",
       "    <tr>\n",
       "      <th>0</th>\n",
       "      <td>age</td>\n",
       "      <td>10.716991</td>\n",
       "      <td>10.742023</td>\n",
       "      <td>4.785594e-01</td>\n",
       "    </tr>\n",
       "    <tr>\n",
       "      <th>1</th>\n",
       "      <td>dist_cap</td>\n",
       "      <td>150.829074</td>\n",
       "      <td>153.769730</td>\n",
       "      <td>8.415005e-04</td>\n",
       "    </tr>\n",
       "    <tr>\n",
       "      <th>2</th>\n",
       "      <td>dist_sec</td>\n",
       "      <td>2.453122</td>\n",
       "      <td>2.507662</td>\n",
       "      <td>3.569843e-02</td>\n",
       "    </tr>\n",
       "    <tr>\n",
       "      <th>3</th>\n",
       "      <td>fam_n</td>\n",
       "      <td>7.281327</td>\n",
       "      <td>7.302469</td>\n",
       "      <td>4.271039e-01</td>\n",
       "    </tr>\n",
       "    <tr>\n",
       "      <th>4</th>\n",
       "      <td>grc</td>\n",
       "      <td>3.531599</td>\n",
       "      <td>3.543050</td>\n",
       "      <td>6.890151e-01</td>\n",
       "    </tr>\n",
       "    <tr>\n",
       "      <th>5</th>\n",
       "      <td>grc97</td>\n",
       "      <td>3.531599</td>\n",
       "      <td>3.543050</td>\n",
       "      <td>6.890151e-01</td>\n",
       "    </tr>\n",
       "    <tr>\n",
       "      <th>6</th>\n",
       "      <td>hohage</td>\n",
       "      <td>43.648828</td>\n",
       "      <td>44.276918</td>\n",
       "      <td>1.515918e-06</td>\n",
       "    </tr>\n",
       "    <tr>\n",
       "      <th>7</th>\n",
       "      <td>hohedu</td>\n",
       "      <td>2.663139</td>\n",
       "      <td>2.590348</td>\n",
       "      <td>1.105093e-02</td>\n",
       "    </tr>\n",
       "    <tr>\n",
       "      <th>8</th>\n",
       "      <td>hohsex</td>\n",
       "      <td>0.924656</td>\n",
       "      <td>0.922947</td>\n",
       "      <td>6.217737e-01</td>\n",
       "    </tr>\n",
       "    <tr>\n",
       "      <th>9</th>\n",
       "      <td>hohwag</td>\n",
       "      <td>544.339544</td>\n",
       "      <td>573.163558</td>\n",
       "      <td>3.253835e-04</td>\n",
       "    </tr>\n",
       "    <tr>\n",
       "      <th>10</th>\n",
       "      <td>indig</td>\n",
       "      <td>0.325986</td>\n",
       "      <td>0.332207</td>\n",
       "      <td>2.255999e-01</td>\n",
       "    </tr>\n",
       "    <tr>\n",
       "      <th>11</th>\n",
       "      <td>min_dist</td>\n",
       "      <td>107.152915</td>\n",
       "      <td>103.237854</td>\n",
       "      <td>2.358312e-16</td>\n",
       "    </tr>\n",
       "    <tr>\n",
       "      <th>12</th>\n",
       "      <td>sc</td>\n",
       "      <td>0.822697</td>\n",
       "      <td>0.815186</td>\n",
       "      <td>4.416380e-02</td>\n",
       "    </tr>\n",
       "    <tr>\n",
       "      <th>13</th>\n",
       "      <td>sc97</td>\n",
       "      <td>0.822697</td>\n",
       "      <td>0.815186</td>\n",
       "      <td>4.416380e-02</td>\n",
       "    </tr>\n",
       "    <tr>\n",
       "      <th>14</th>\n",
       "      <td>sex</td>\n",
       "      <td>0.519317</td>\n",
       "      <td>0.505052</td>\n",
       "      <td>1.228655e-02</td>\n",
       "    </tr>\n",
       "    <tr>\n",
       "      <th>15</th>\n",
       "      <td>welfare_index</td>\n",
       "      <td>655.428377</td>\n",
       "      <td>659.579100</td>\n",
       "      <td>6.379435e-01</td>\n",
       "    </tr>\n",
       "  </tbody>\n",
       "</table>\n",
       "</div>"
      ],
      "text/plain": [
       "    Variable name  Average value (Treatment villages)_x  \\\n",
       "0             age                             10.716991   \n",
       "1        dist_cap                            150.829074   \n",
       "2        dist_sec                              2.453122   \n",
       "3           fam_n                              7.281327   \n",
       "4             grc                              3.531599   \n",
       "5           grc97                              3.531599   \n",
       "6          hohage                             43.648828   \n",
       "7          hohedu                              2.663139   \n",
       "8          hohsex                              0.924656   \n",
       "9          hohwag                            544.339544   \n",
       "10          indig                              0.325986   \n",
       "11       min_dist                            107.152915   \n",
       "12             sc                              0.822697   \n",
       "13           sc97                              0.822697   \n",
       "14            sex                              0.519317   \n",
       "15  welfare_index                            655.428377   \n",
       "\n",
       "    Average value (Treatment villages)_y       p-value  \n",
       "0                              10.742023  4.785594e-01  \n",
       "1                             153.769730  8.415005e-04  \n",
       "2                               2.507662  3.569843e-02  \n",
       "3                               7.302469  4.271039e-01  \n",
       "4                               3.543050  6.890151e-01  \n",
       "5                               3.543050  6.890151e-01  \n",
       "6                              44.276918  1.515918e-06  \n",
       "7                               2.590348  1.105093e-02  \n",
       "8                               0.922947  6.217737e-01  \n",
       "9                             573.163558  3.253835e-04  \n",
       "10                              0.332207  2.255999e-01  \n",
       "11                            103.237854  2.358312e-16  \n",
       "12                              0.815186  4.416380e-02  \n",
       "13                              0.815186  4.416380e-02  \n",
       "14                              0.505052  1.228655e-02  \n",
       "15                            659.579100  6.379435e-01  "
      ]
     },
     "execution_count": 201,
     "metadata": {},
     "output_type": "execute_result"
    }
   ],
   "source": [
    "tcomp = {}\n",
    "treat_df = treat_df[treat_df.columns.difference(['year','folnum','village', 'poor', 'progresa'])].fillna(0)\n",
    "control_df = control_df[control_df.columns.difference(['year','folnum','village', 'poor', 'progresa'])].fillna(0)\n",
    "list_val = list(treat_df)\n",
    "for x in range(0,len(final_df)):\n",
    "    tcomp.update({list_val[x]: sp.ttest_ind(treat_df.transpose().iloc[x],control_df.transpose().iloc[x]).pvalue})\n",
    "\n",
    "tlist_df = pd.DataFrame(list(tcomp.items()), columns = ['Variable name','p-value'])\n",
    "tlist_df\n",
    "\n",
    "final_df=pd.merge(final_df,tlist_df, how='left' ,on = 'Variable name')\n",
    "final_df"
   ]
  },
  {
   "cell_type": "markdown",
   "metadata": {
    "ein.tags": [
     "worksheet-0"
    ],
    "slideshow": {
     "slide_type": "-"
    }
   },
   "source": [
    "### 1.3 Interpretation\n",
    "\n",
    "* A: Are there statistically significant differences between treatment and control villages as baseline? \n",
    "* B: Why does it matter if there are differences at baseline?\n",
    "* C: What does this imply about how to measure the impact of the treatment?"
   ]
  },
  {
   "cell_type": "markdown",
   "metadata": {
    "autoscroll": "json-false",
    "collapsed": false,
    "ein.tags": [
     "worksheet-0"
    ],
    "slideshow": {
     "slide_type": "-"
    }
   },
   "source": [
    "A.  Examining the average values of the variables of this experiment for the treatment and control villages we find that there are statistically significant differences between the treatment and control villages at the baseline. Statistical significance is defined based on the p-value i.e. if the p-value is less than 0.05 it means that there is significant difference between treatment and control villages as baseline. And from the above obserb=vations we can see that variables like sex, dist_sec (nearest distance to a secondary school), min_dist (min distance to an urban center), dist_cap (min distance to the capital), hohedu (years of schooling of head of household), hohwag (monthly wages of head of household),hohage (age of head of household), welfare_index (welfare index used to classify poor) have a statistically significant difference.\n",
    "\n",
    "B. For any comparison, it is required to have the same baseline so as to gauge the actual effect of the treatment, i.e. they should not have statistically singnificant differences in their attributes. But in this case, since the two groups seem to be systematically different even before the treatment we can conclude the randomization was not flaw and not all causal relationships between the treatment and control attributes before and after can be directly attributed to the treatment. Thus difference at baseline impacts the causal analysis of an experiment.\n",
    "\n",
    "C. Since there is significant difference between several variables of treatment and control groups prior to the treatment, we cannont rely on just the difference of before and after treatment variables to derive any causal effect. To gauge the impact aptly we would have to  fallback on techniques like double difference aka difference in difference."
   ]
  },
  {
   "cell_type": "markdown",
   "metadata": {
    "ein.tags": [
     "worksheet-0"
    ],
    "slideshow": {
     "slide_type": "-"
    }
   },
   "source": [
    "### 1.4 Graphical exploration, part 1\n",
    "\n",
    "For each level of household head education, compute the average enrollment rate in 1997. Create a scatterplot that shows this relationship. What do you notice?"
   ]
  },
  {
   "cell_type": "code",
   "execution_count": 103,
   "metadata": {
    "autoscroll": "json-false",
    "collapsed": false,
    "ein.tags": [
     "worksheet-0"
    ],
    "slideshow": {
     "slide_type": "-"
    }
   },
   "outputs": [
    {
     "name": "stdout",
     "output_type": "stream",
     "text": [
      "    HouseholdEdu  NotEnrolled  Enrolled  EnrollmentRate\n",
      "0              0       4458.0   15456.0        0.776137\n",
      "1              1       1180.0    3918.0        0.768537\n",
      "2              2       2308.0    8926.0        0.794552\n",
      "3              3       2906.0   11842.0        0.802956\n",
      "4              4        860.0    4616.0        0.842951\n",
      "5              5        364.0    2060.0        0.849835\n",
      "6              6       1270.0    9180.0        0.878469\n",
      "7              7         38.0     306.0        0.889535\n",
      "8              8         58.0     522.0        0.900000\n",
      "9              9        160.0    1974.0        0.925023\n",
      "10            10         14.0      90.0        0.865385\n",
      "11            11          2.0      76.0        0.974359\n",
      "12            12          6.0     346.0        0.982955\n",
      "13            13          6.0     142.0        0.959459\n",
      "14            14         10.0      74.0        0.880952\n",
      "15            15          6.0      54.0        0.900000\n",
      "16            16          4.0      64.0        0.941176\n",
      "17            17          2.0      28.0        0.933333\n",
      "18            18          0.0      48.0        1.000000\n",
      "19            20          2.0       2.0        0.500000\n"
     ]
    },
    {
     "data": {
      "text/plain": [
       "<matplotlib.collections.PathCollection at 0x12cc4358>"
      ]
     },
     "execution_count": 103,
     "metadata": {},
     "output_type": "execute_result"
    },
    {
     "data": {
      "image/png": "[encoded data removed]",
      "text/plain": [
       "<matplotlib.figure.Figure at 0x152a8470>"
      ]
     },
     "metadata": {},
     "output_type": "display_data"
    }
   ],
   "source": [
    "target_df = prog_df.groupby(['hohedu','sc97']).sc97.agg(['count'])\n",
    "target_df = target_df.unstack('sc97')\n",
    "target_df = target_df.fillna(0)\n",
    "target_df = pd.DataFrame(target_df.to_records())\n",
    "target_df.columns = ['HouseholdEdu', 'NotEnrolled', 'Enrolled']\n",
    "target_df['EnrollmentRate'] = target_df['Enrolled'] / (target_df['Enrolled'] + target_df['NotEnrolled'])\n",
    "print target_df\n",
    "plt.scatter(target_df['HouseholdEdu'],target_df['EnrollmentRate'])"
   ]
  },
  {
   "cell_type": "markdown",
   "metadata": {
    "ein.tags": [
     "worksheet-0"
    ],
    "slideshow": {
     "slide_type": "-"
    }
   },
   "source": [
    "Ans - We see that there is very less representation for group 20 due to which the data is skewed and it doesn't follow the general trend of increasing enrollement based of head of household's education.\n",
    "\n",
    "\n",
    "\n",
    "### 1.5 Graphical exploration, part 2\n",
    "\n",
    "Create a histogram of village enrollment rates **among poor households in treated villages**, before and after treatment. Specifically, for each village, calculate the average rate of enrollment of poor households in treated villages in 1997, then compute the average rate of enrollment of poor households in treated villages in 1998. Create two separate histograms showing the distribution of these average enrollments rates, one histogram for 1997 and one histogram for 1998. On each histogram, draw a vertical line that intersects the x-axis at the average value (across all households).\n",
    "* Does there appear to be a difference? Is this difference statistically significant?\n",
    "* Which D estimator in Schultz (2004) does this approach correspond to?"
   ]
  },
  {
   "cell_type": "code",
   "execution_count": 110,
   "metadata": {
    "autoscroll": "json-false",
    "collapsed": false,
    "ein.tags": [
     "worksheet-0"
    ],
    "slideshow": {
     "slide_type": "-"
    }
   },
   "outputs": [
    {
     "data": {
      "text/plain": [
       "<matplotlib.lines.Line2D at 0xcb00400>"
      ]
     },
     "execution_count": 110,
     "metadata": {},
     "output_type": "execute_result"
    },
    {
     "data": {
      "image/png": "[encoded data removed]",
      "text/plain": [
       "<matplotlib.figure.Figure at 0x13155320>"
      ]
     },
     "metadata": {},
     "output_type": "display_data"
    }
   ],
   "source": [
    "treat_df = prog_df[(prog_df.progresa == 'basal')&(prog_df.year == 97)&(prog_df.poor == 'pobre')]\n",
    "target_df = treat_df.groupby(['village', 'sc']).sc.agg(['count'])\n",
    "target_df = target_df.unstack('sc')\n",
    "target_df = target_df.fillna(0)\n",
    "target_df = pd.DataFrame(target_df.to_records())\n",
    "target_df.columns = ['Village', 'NotEnrolled', 'Enrolled']\n",
    "target_df['EnrollmentRate'] = target_df['Enrolled'] / (target_df['Enrolled'] + target_df['NotEnrolled'])\n",
    "plt.hist(target_df['EnrollmentRate'])\n",
    "plt.axvline(target_df['EnrollmentRate'].mean(), color='b', linestyle='dashed', linewidth=2)"
   ]
  },
  {
   "cell_type": "code",
   "execution_count": 111,
   "metadata": {
    "collapsed": false
   },
   "outputs": [
    {
     "data": {
      "text/plain": [
       "<matplotlib.lines.Line2D at 0x18cae2e8>"
      ]
     },
     "execution_count": 111,
     "metadata": {},
     "output_type": "execute_result"
    },
    {
     "data": {
      "image/png": "[encoded data removed]",
      "text/plain": [
       "<matplotlib.figure.Figure at 0x18cae080>"
      ]
     },
     "metadata": {},
     "output_type": "display_data"
    }
   ],
   "source": [
    "treat_df = prog_df[(prog_df.progresa == 'basal')&(prog_df.year == 98)&(prog_df.poor == 'pobre')]\n",
    "target_df = treat_df.groupby(['village', 'sc']).sc.agg(['count'])\n",
    "target_df = target_df.unstack('sc')\n",
    "target_df = target_df.fillna(0)\n",
    "target_df = pd.DataFrame(target_df.to_records())\n",
    "target_df.columns = ['Village', 'NotEnrolled', 'Enrolled']\n",
    "target_df['EnrollmentRate'] = target_df['Enrolled'] / (target_df['Enrolled'] + target_df['NotEnrolled'])\n",
    "plt.hist(target_df['EnrollmentRate'])\n",
    "plt.axvline(target_df['EnrollmentRate'].mean(), color='b', linestyle='dashed', linewidth=2)"
   ]
  },
  {
   "cell_type": "markdown",
   "metadata": {},
   "source": [
    "Does there appear to be a difference? Is this difference statistically significant?\n",
    "    From the above histograms we see that the overall mean of the average enrollment rates across villages in 1997 and 1998  was nearly same at around 0.81 and 0.83. From the histograms it looks like there is slight shift in more villages moving higher towards the 0.8 and 0.9 range and less around 0.6 in 1998 as compared to the observed trend of  treatment villages in 1997. And since they mead did seem to have an upwards trend, we can conclude that the differences might be statistically significant by probably a small margin.\n",
    "    \n",
    "Which D estimator in Schultz (2004) does this approach correspond to?\n",
    "    This approach most probably corresponds to DD1(t) estimator of Schultz (page 212) which is the double difference estimator for averages for program groups over time."
   ]
  },
  {
   "cell_type": "markdown",
   "metadata": {
    "ein.tags": [
     "worksheet-0"
    ],
    "slideshow": {
     "slide_type": "-"
    }
   },
   "source": [
    "## Part 2: Measuring Impact\n",
    "\n",
    "### 2.1 Simple differences: T-test\n",
    "\n",
    "Start out by estimating the impact of Progresa using \"simple differences.\" Restricting yourself to data from 1998 (after treatment).\n",
    "* calculate the average enrollment rate among **poor** households in the Treatment villages and the average enrollment rate among **poor** households in the control villages.\n",
    "* Which difference estimator in Schultz (2004) does this approach correspond to?\n",
    "* Use a t-test to determine if this difference is statistically significant. What do you conclude?"
   ]
  },
  {
   "cell_type": "code",
   "execution_count": 219,
   "metadata": {
    "autoscroll": "json-false",
    "collapsed": false,
    "ein.tags": [
     "worksheet-0"
    ],
    "slideshow": {
     "slide_type": "-"
    }
   },
   "outputs": [
    {
     "data": {
      "text/plain": [
       "0.8464791213954308"
      ]
     },
     "execution_count": 219,
     "metadata": {},
     "output_type": "execute_result"
    }
   ],
   "source": [
    "#Enrollment rate for treatment villages\n",
    "treat_df = prog_df[(prog_df.progresa == 'basal')&(prog_df.year == 98)&(prog_df.poor == 'pobre')]\n",
    "target_df = treat_df.groupby(['sc']).sc.agg(['count'])\n",
    "target_df = target_df.fillna(0)\n",
    "target_df = pd.DataFrame(target_df.to_records())\n",
    "\n",
    "target_er_treat= target_df.iloc[1]['count'] / (target_df.iloc[0]['count'] + target_df.iloc[1]['count'])\n",
    "target_er_treat\n"
   ]
  },
  {
   "cell_type": "code",
   "execution_count": 220,
   "metadata": {
    "collapsed": false
   },
   "outputs": [
    {
     "data": {
      "text/plain": [
       "0.807636956730308"
      ]
     },
     "execution_count": 220,
     "metadata": {},
     "output_type": "execute_result"
    }
   ],
   "source": [
    "\n",
    "#Enrollment Rate for control villages\n",
    "control_df = prog_df[(prog_df.progresa != 'basal')&(prog_df.year == 98)&(prog_df.poor == 'pobre')]\n",
    "target_df = control_df.groupby(['sc']).sc.agg(['count'])\n",
    "target_df = target_df.fillna(0)\n",
    "target_df = pd.DataFrame(target_df.to_records())\n",
    "\n",
    "target_er_control= target_df.iloc[1]['count'] / (target_df.iloc[0]['count'] + target_df.iloc[1]['count'])\n",
    "target_er_control"
   ]
  },
  {
   "cell_type": "code",
   "execution_count": 227,
   "metadata": {
    "collapsed": false
   },
   "outputs": [
    {
     "data": {
      "text/plain": [
       "Ttest_indResult(statistic=7.2571906557901364, pvalue=4.0399770903218052e-13)"
      ]
     },
     "execution_count": 227,
     "metadata": {},
     "output_type": "execute_result"
    }
   ],
   "source": [
    "sp.ttest_ind(treat_df['sc'].fillna(0),control_df['sc'].fillna(0))"
   ]
  },
  {
   "cell_type": "code",
   "execution_count": 228,
   "metadata": {
    "collapsed": false
   },
   "outputs": [
    {
     "data": {
      "text/plain": [
       "Ttest_indResult(statistic=-8.3587205674183735, pvalue=6.636344447523235e-17)"
      ]
     },
     "execution_count": 228,
     "metadata": {},
     "output_type": "execute_result"
    }
   ],
   "source": [
    "sp.ttest_ind(control_df['sc'][~np.isnan(control_df['sc'])], treat_df['sc'][~np.isnan(treat_df['sc'])])"
   ]
  },
  {
   "cell_type": "markdown",
   "metadata": {},
   "source": [
    "Which difference estimator in Schultz (2004) does this approach correspond to?\n",
    "    This approach corresponds to the D1(t) estimator of Schultz (page 212) which is the program control difference in outcomes of the test groups.\n",
    "    \n",
    "Use a t-test to determine if this difference is statistically significant. What do you conclude?\n",
    "    We see that the p value is very small and hence the difference is significant aka progresa helped increase the enrollment rate among poor households"
   ]
  },
  {
   "cell_type": "markdown",
   "metadata": {
    "ein.tags": [
     "worksheet-0"
    ],
    "slideshow": {
     "slide_type": "-"
    }
   },
   "source": [
    "### 2.2 Simple differences: Regression\n",
    "\n",
    "Estimate the effects of Progresa on enrollment using a regression model, by regressing the 1998 enrollment rates **of the poor** on treatment assignment. Discuss the following:\n",
    "\n",
    "* Based on this model, how much did Progresa increase the likelihood of a child enrolling?\n",
    "* How does your regression estimate compare to your t-test estimate from part 2.1?\n",
    "* Based on this regression model, can we reject the null hypothesis that the treatment effects are zero? \n",
    "* What is the counterfactual assumption underlying this regression?"
   ]
  },
  {
   "cell_type": "code",
   "execution_count": 230,
   "metadata": {
    "autoscroll": "json-false",
    "collapsed": false,
    "ein.tags": [
     "worksheet-0"
    ],
    "slideshow": {
     "slide_type": "-"
    }
   },
   "outputs": [
    {
     "name": "stderr",
     "output_type": "stream",
     "text": [
      "C:\\Users\\Varsha\\Anaconda2\\lib\\site-packages\\pandas\\core\\indexing.py:477: SettingWithCopyWarning: \n",
      "A value is trying to be set on a copy of a slice from a DataFrame.\n",
      "Try using .loc[row_indexer,col_indexer] = value instead\n",
      "\n",
      "See the caveats in the documentation: http://pandas.pydata.org/pandas-docs/stable/indexing.html#indexing-view-versus-copy\n",
      "  self.obj[item] = s\n"
     ]
    },
    {
     "name": "stdout",
     "output_type": "stream",
     "text": [
      "Intercept        0.807637\n",
      "progresa[T.1]    0.038842\n",
      "dtype: float64\n",
      "                            OLS Regression Results                            \n",
      "==============================================================================\n",
      "Dep. Variable:                     sc   R-squared:                       0.003\n",
      "Model:                            OLS   Adj. R-squared:                  0.003\n",
      "Method:                 Least Squares   F-statistic:                     69.87\n",
      "Date:                Sun, 30 Apr 2017   Prob (F-statistic):           6.64e-17\n",
      "Time:                        19:25:48   Log-Likelihood:                -11926.\n",
      "No. Observations:               27450   AIC:                         2.386e+04\n",
      "Df Residuals:                   27448   BIC:                         2.387e+04\n",
      "Df Model:                           1                                         \n",
      "Covariance Type:            nonrobust                                         \n",
      "=================================================================================\n",
      "                    coef    std err          t      P>|t|      [95.0% Conf. Int.]\n",
      "---------------------------------------------------------------------------------\n",
      "Intercept         0.8076      0.004    220.676      0.000         0.800     0.815\n",
      "progresa[T.1]     0.0388      0.005      8.359      0.000         0.030     0.048\n",
      "==============================================================================\n",
      "Omnibus:                     7638.939   Durbin-Watson:                   1.734\n",
      "Prob(Omnibus):                  0.000   Jarque-Bera (JB):            15767.534\n",
      "Skew:                          -1.767   Prob(JB):                         0.00\n",
      "Kurtosis:                       4.140   Cond. No.                         3.01\n",
      "==============================================================================\n",
      "\n",
      "Warnings:\n",
      "[1] Standard Errors assume that the covariance matrix of the errors is correctly specified.\n"
     ]
    }
   ],
   "source": [
    "Model_Data = prog_df[(prog_df['poor'] == 'pobre') & (prog_df['year'] == 98)]\n",
    "Model_Data.loc[Model_Data.progresa == 'basal', 'progresa'] = 1\n",
    "Model_Data.loc[Model_Data.progresa == '0', 'progresa'] = 0\n",
    "\n",
    "# Simple regression to gauge effect of enrollment rates on treatment assignment\n",
    "lm = sm.ols(formula='sc ~ progresa', data=Model_Data).fit()\n",
    "print lm.params\n",
    "print lm.summary()"
   ]
  },
  {
   "cell_type": "markdown",
   "metadata": {},
   "source": [
    "Based on this model, how much did Progresa increase the likelihood of a child enrolling? \n",
    "    The coefficient of progresa is 0.0388, which means that for a unit increase in progresa variable, the enrollment would increase by 0.0388 percent. A unit increase in progresa would mean more enrollment, which means Progresa increased the liklihood of child enrollment by 0.0388%.\n",
    "\n",
    "How does your regression estimate compare to your t-test estimate from part 2.1?\n",
    "    The t-test estimate from 2.1 is in sync with regression model. The regression value calculated for the above model is 0.8076 + 1* 0.0388 = 0.8464 = avg enrollment rate for poor households in treatment villages. Control group, we the regression value would be 0.8076 = avg enrollment rate for poor households in control villages. \n",
    "\n",
    "Based on this regression model, can we reject the null hypothesis that the treatment effects are zero?\n",
    "    Thus based on the results of the regression model, can we reject the null hypothesis - there were no treatment effects since the pvalue for the intercept is less than 0.05. This means the treatment had an effect on the enrollment.\n",
    "    \n",
    "What is the counterfactual assumption underlying this regression? \n",
    "    The counterfactual assumption underlying this regression is that if there was no treatment, the average enrollment rate for treated and control villages would remain the same and no change would have been observed."
   ]
  },
  {
   "cell_type": "markdown",
   "metadata": {
    "ein.tags": [
     "worksheet-0"
    ],
    "slideshow": {
     "slide_type": "-"
    }
   },
   "source": [
    "### 2.3 Multiple Regression\n",
    "\n",
    "Re-run the above regression estimated but this time include a set of control variables. Include, for instance, age, distance to a secondary school, gender, education of household head, indigenous, etc.\n",
    "\n",
    "* How do the controls affect the point estimate of treatment effect?\n",
    "* How do the controls affect the standard error on the treatment effect? \n",
    "* How do you interpret the differences (or similarities) between your estimates of 2.2 and 2.3?"
   ]
  },
  {
   "cell_type": "code",
   "execution_count": 231,
   "metadata": {
    "autoscroll": "json-false",
    "collapsed": false,
    "ein.tags": [
     "worksheet-0"
    ],
    "slideshow": {
     "slide_type": "-"
    }
   },
   "outputs": [
    {
     "data": {
      "text/html": [
       "<table class=\"simpletable\">\n",
       "<caption>OLS Regression Results</caption>\n",
       "<tr>\n",
       "  <th>Dep. Variable:</th>           <td>sc</td>        <th>  R-squared:         </th> <td>   0.272</td> \n",
       "</tr>\n",
       "<tr>\n",
       "  <th>Model:</th>                   <td>OLS</td>       <th>  Adj. R-squared:    </th> <td>   0.272</td> \n",
       "</tr>\n",
       "<tr>\n",
       "  <th>Method:</th>             <td>Least Squares</td>  <th>  F-statistic:       </th> <td>   849.5</td> \n",
       "</tr>\n",
       "<tr>\n",
       "  <th>Date:</th>             <td>Sun, 30 Apr 2017</td> <th>  Prob (F-statistic):</th>  <td>  0.00</td>  \n",
       "</tr>\n",
       "<tr>\n",
       "  <th>Time:</th>                 <td>21:12:56</td>     <th>  Log-Likelihood:    </th> <td> -7541.1</td> \n",
       "</tr>\n",
       "<tr>\n",
       "  <th>No. Observations:</th>      <td> 27263</td>      <th>  AIC:               </th> <td>1.511e+04</td>\n",
       "</tr>\n",
       "<tr>\n",
       "  <th>Df Residuals:</th>          <td> 27250</td>      <th>  BIC:               </th> <td>1.521e+04</td>\n",
       "</tr>\n",
       "<tr>\n",
       "  <th>Df Model:</th>              <td>    12</td>      <th>                     </th>     <td> </td>    \n",
       "</tr>\n",
       "<tr>\n",
       "  <th>Covariance Type:</th>      <td>nonrobust</td>    <th>                     </th>     <td> </td>    \n",
       "</tr>\n",
       "</table>\n",
       "<table class=\"simpletable\">\n",
       "<tr>\n",
       "        <td></td>           <th>coef</th>     <th>std err</th>      <th>t</th>      <th>P>|t|</th> <th>[95.0% Conf. Int.]</th> \n",
       "</tr>\n",
       "<tr>\n",
       "  <th>Intercept</th>     <td>    1.4431</td> <td>    0.018</td> <td>   80.855</td> <td> 0.000</td> <td>    1.408     1.478</td>\n",
       "</tr>\n",
       "<tr>\n",
       "  <th>progresa[T.1]</th> <td>    0.0337</td> <td>    0.004</td> <td>    8.418</td> <td> 0.000</td> <td>    0.026     0.042</td>\n",
       "</tr>\n",
       "<tr>\n",
       "  <th>sex</th>           <td>    0.0304</td> <td>    0.004</td> <td>    7.847</td> <td> 0.000</td> <td>    0.023     0.038</td>\n",
       "</tr>\n",
       "<tr>\n",
       "  <th>indig</th>         <td>    0.0188</td> <td>    0.005</td> <td>    3.961</td> <td> 0.000</td> <td>    0.009     0.028</td>\n",
       "</tr>\n",
       "<tr>\n",
       "  <th>dist_sec</th>      <td>   -0.0106</td> <td>    0.001</td> <td>  -12.012</td> <td> 0.000</td> <td>   -0.012    -0.009</td>\n",
       "</tr>\n",
       "<tr>\n",
       "  <th>fam_n</th>         <td>    0.0006</td> <td>    0.001</td> <td>    0.727</td> <td> 0.467</td> <td>   -0.001     0.002</td>\n",
       "</tr>\n",
       "<tr>\n",
       "  <th>min_dist</th>      <td>    0.0004</td> <td> 6.34e-05</td> <td>    6.326</td> <td> 0.000</td> <td>    0.000     0.001</td>\n",
       "</tr>\n",
       "<tr>\n",
       "  <th>dist_cap</th>      <td>    0.0002</td> <td>  3.7e-05</td> <td>    5.512</td> <td> 0.000</td> <td>    0.000     0.000</td>\n",
       "</tr>\n",
       "<tr>\n",
       "  <th>hohedu</th>        <td>    0.0079</td> <td>    0.001</td> <td>    9.224</td> <td> 0.000</td> <td>    0.006     0.010</td>\n",
       "</tr>\n",
       "<tr>\n",
       "  <th>hohwag</th>        <td> -7.23e-07</td> <td> 2.81e-06</td> <td>   -0.257</td> <td> 0.797</td> <td>-6.24e-06  4.79e-06</td>\n",
       "</tr>\n",
       "<tr>\n",
       "  <th>welfare_index</th> <td> 2.283e-05</td> <td> 1.82e-05</td> <td>    1.253</td> <td> 0.210</td> <td>-1.29e-05  5.85e-05</td>\n",
       "</tr>\n",
       "<tr>\n",
       "  <th>age</th>           <td>   -0.0657</td> <td>    0.001</td> <td>  -94.750</td> <td> 0.000</td> <td>   -0.067    -0.064</td>\n",
       "</tr>\n",
       "<tr>\n",
       "  <th>hohage</th>        <td>-2.299e-05</td> <td>    0.000</td> <td>   -0.118</td> <td> 0.906</td> <td>   -0.000     0.000</td>\n",
       "</tr>\n",
       "</table>\n",
       "<table class=\"simpletable\">\n",
       "<tr>\n",
       "  <th>Omnibus:</th>       <td>2940.375</td> <th>  Durbin-Watson:     </th> <td>   1.729</td>\n",
       "</tr>\n",
       "<tr>\n",
       "  <th>Prob(Omnibus):</th>  <td> 0.000</td>  <th>  Jarque-Bera (JB):  </th> <td>3992.254</td>\n",
       "</tr>\n",
       "<tr>\n",
       "  <th>Skew:</th>           <td>-0.930</td>  <th>  Prob(JB):          </th> <td>    0.00</td>\n",
       "</tr>\n",
       "<tr>\n",
       "  <th>Kurtosis:</th>       <td> 3.237</td>  <th>  Cond. No.          </th> <td>9.54e+03</td>\n",
       "</tr>\n",
       "</table>"
      ],
      "text/plain": [
       "<class 'statsmodels.iolib.summary.Summary'>\n",
       "\"\"\"\n",
       "                            OLS Regression Results                            \n",
       "==============================================================================\n",
       "Dep. Variable:                     sc   R-squared:                       0.272\n",
       "Model:                            OLS   Adj. R-squared:                  0.272\n",
       "Method:                 Least Squares   F-statistic:                     849.5\n",
       "Date:                Sun, 30 Apr 2017   Prob (F-statistic):               0.00\n",
       "Time:                        21:12:56   Log-Likelihood:                -7541.1\n",
       "No. Observations:               27263   AIC:                         1.511e+04\n",
       "Df Residuals:                   27250   BIC:                         1.521e+04\n",
       "Df Model:                          12                                         \n",
       "Covariance Type:            nonrobust                                         \n",
       "=================================================================================\n",
       "                    coef    std err          t      P>|t|      [95.0% Conf. Int.]\n",
       "---------------------------------------------------------------------------------\n",
       "Intercept         1.4431      0.018     80.855      0.000         1.408     1.478\n",
       "progresa[T.1]     0.0337      0.004      8.418      0.000         0.026     0.042\n",
       "sex               0.0304      0.004      7.847      0.000         0.023     0.038\n",
       "indig             0.0188      0.005      3.961      0.000         0.009     0.028\n",
       "dist_sec         -0.0106      0.001    -12.012      0.000        -0.012    -0.009\n",
       "fam_n             0.0006      0.001      0.727      0.467        -0.001     0.002\n",
       "min_dist          0.0004   6.34e-05      6.326      0.000         0.000     0.001\n",
       "dist_cap          0.0002    3.7e-05      5.512      0.000         0.000     0.000\n",
       "hohedu            0.0079      0.001      9.224      0.000         0.006     0.010\n",
       "hohwag         -7.23e-07   2.81e-06     -0.257      0.797     -6.24e-06  4.79e-06\n",
       "welfare_index  2.283e-05   1.82e-05      1.253      0.210     -1.29e-05  5.85e-05\n",
       "age              -0.0657      0.001    -94.750      0.000        -0.067    -0.064\n",
       "hohage        -2.299e-05      0.000     -0.118      0.906        -0.000     0.000\n",
       "==============================================================================\n",
       "Omnibus:                     2940.375   Durbin-Watson:                   1.729\n",
       "Prob(Omnibus):                  0.000   Jarque-Bera (JB):             3992.254\n",
       "Skew:                          -0.930   Prob(JB):                         0.00\n",
       "Kurtosis:                       3.237   Cond. No.                     9.54e+03\n",
       "==============================================================================\n",
       "\n",
       "Warnings:\n",
       "[1] Standard Errors assume that the covariance matrix of the errors is correctly specified.\n",
       "[2] The condition number is large, 9.54e+03. This might indicate that there are\n",
       "strong multicollinearity or other numerical problems.\n",
       "\"\"\""
      ]
     },
     "execution_count": 231,
     "metadata": {},
     "output_type": "execute_result"
    }
   ],
   "source": [
    "multiple_lm = sm.ols(formula='sc ~ progresa + sex + indig + dist_sec + fam_n + min_dist + dist_cap + hohedu + hohwag + welfare_index + age + hohage', data=Model_Data).fit()\n",
    "multiple_lm.summary()"
   ]
  },
  {
   "cell_type": "markdown",
   "metadata": {},
   "source": [
    "How do the controls affect the point estimate of treatment effect?\n",
    "    Introducing the control factors has only changed the point estimate for the treatment effect, decreasing it from 0.0388 in the initial single-linear regression model to 0.0337 in this multiple regression model. We can also see that the intercept value has increased significantly.\n",
    "    \n",
    "How do the controls affect the standard error on the treatment effect?\n",
    "    After adding the control variables, the standard error for treament aka progresa has reduced from 0.005 to 0.004, increasing the model accuracy.\n",
    "    \n",
    "How do you interpret the differences (or similarities) between your estimates of 2.2 and 2.3?\n",
    "    While we see that point estimate has decreased, and intercept value increased considerably the controls did affect the model significantly. Also since in case of multiple regression standard error was lower, model accuracy improved, making it a better model for the given data."
   ]
  },
  {
   "cell_type": "markdown",
   "metadata": {
    "ein.tags": [
     "worksheet-0"
    ],
    "slideshow": {
     "slide_type": "-"
    }
   },
   "source": [
    "### 2.4 Difference-in-Difference, version 1 (tabular)\n",
    "\n",
    "Thus far, we have computed the effects of Progresa by estimating the difference in 1998 enrollment rates across villages. An alternative approach would be to compute the treatment effect using a difference-in-differences framework.\n",
    "\n",
    "Begin by estimating the average treatment effects of the program for poor households using data from 1997 and 1998. Specifically, calculate the difference (between 1997 and 1998) in enrollment rates among poor households in treated villages; then compute the difference (between 1997 and 1998) in enrollment rates among poor households in treated villages. The difference between these two differences is your estimate.\n",
    "\n",
    "* What is your estimate of the impact, and how does it compare to your earlier (simple difference) results?\n",
    "* What is the counterfactual assumption underlying this estimate? \n"
   ]
  },
  {
   "cell_type": "code",
   "execution_count": 256,
   "metadata": {
    "autoscroll": "json-false",
    "collapsed": false,
    "ein.tags": [
     "worksheet-0"
    ],
    "slideshow": {
     "slide_type": "-"
    }
   },
   "outputs": [
    {
     "data": {
      "text/html": [
       "<div>\n",
       "<table border=\"1\" class=\"dataframe\">\n",
       "  <thead>\n",
       "    <tr style=\"text-align: right;\">\n",
       "      <th></th>\n",
       "      <th>Control Group</th>\n",
       "      <th>Treatment Group</th>\n",
       "      <th>Difference in Difference</th>\n",
       "    </tr>\n",
       "  </thead>\n",
       "  <tbody>\n",
       "    <tr>\n",
       "      <th>Avg Enrollment Before Treatment</th>\n",
       "      <td>0.815186</td>\n",
       "      <td>0.822697</td>\n",
       "      <td></td>\n",
       "    </tr>\n",
       "    <tr>\n",
       "      <th>Avg Enrollment After Treatment</th>\n",
       "      <td>0.807637</td>\n",
       "      <td>0.846479</td>\n",
       "      <td></td>\n",
       "    </tr>\n",
       "    <tr>\n",
       "      <th>Difference in Difference</th>\n",
       "      <td></td>\n",
       "      <td></td>\n",
       "      <td>0.0313313</td>\n",
       "    </tr>\n",
       "  </tbody>\n",
       "</table>\n",
       "</div>"
      ],
      "text/plain": [
       "                                Control Group Treatment Group  \\\n",
       "Avg Enrollment Before Treatment      0.815186        0.822697   \n",
       "Avg Enrollment After Treatment       0.807637        0.846479   \n",
       "Difference in Difference                                        \n",
       "\n",
       "                                Difference in Difference  \n",
       "Avg Enrollment Before Treatment                           \n",
       "Avg Enrollment After Treatment                            \n",
       "Difference in Difference                       0.0313313  "
      ]
     },
     "execution_count": 256,
     "metadata": {},
     "output_type": "execute_result"
    }
   ],
   "source": [
    "prog97 = prog_df[(prog_df['poor'] == 'pobre') & (prog_df['year'] == 97)]\n",
    "prog98 = prog_df[(prog_df['poor'] == 'pobre') & (prog_df['year'] == 98)]\n",
    "\n",
    "\n",
    "treat98 = prog98['sc'][prog98.progresa == \"basal\"].mean() \n",
    "treat97 = prog97['sc'][prog97.progresa == \"basal\"].mean()\n",
    "control98 =  prog98['sc'][prog98.progresa != \"basal\"].mean()\n",
    "control97 =  prog97['sc'][prog97.progresa != \"basal\"].mean()\n",
    "\n",
    "did = pd.DataFrame(index = ['Avg Enrollment Before Treatment', 'Avg Enrollment After Treatment','Difference in Difference'],\n",
    "                           columns = ['Control Group', 'Treatment Group', 'Difference in Difference'])\n",
    "did.loc[\"Avg Enrollment Before Treatment\",\"Control Group\"] = control97\n",
    "did.loc[\"Avg Enrollment After Treatment\",\"Control Group\"] = control98\n",
    "did.loc[\"Avg Enrollment Before Treatment\",\"Treatment Group\"] = treat97\n",
    "did.loc[\"Avg Enrollment After Treatment\",\"Treatment Group\"] = treat98\n",
    "did.loc[\"Difference in Difference\",\"Difference in Difference\"] = (treat98 - treat97) - (control98 - control97)\n",
    "did.fillna('')\n",
    "did\n"
   ]
  },
  {
   "cell_type": "markdown",
   "metadata": {},
   "source": [
    "What is your estimate of the impact, and how does it compare to your earlier (simple difference) results?\n",
    "    The estimate of the impact using the double difference method resulted in a value of 0.0313313 which is lower compared to the estimate derived from the earlier simple difference method which resulted in 0.0388. But as we know estimate using double difference method is more accurate.\n",
    "    \n",
    "What is the counterfactual assumption underlying this estimate? \n",
    "    Counterfactual assumption underlying this estimate is - if there was no treatment, we wouldn't have observed difference between the average enrollment rates for treatment and control villages before and after treatment."
   ]
  },
  {
   "cell_type": "markdown",
   "metadata": {
    "ein.tags": [
     "worksheet-0"
    ],
    "slideshow": {
     "slide_type": "-"
    }
   },
   "source": [
    "### 2.5 Difference-in-Difference, version 1 (regression)\n",
    "\n",
    "Now use a regression specification to estimate the average treatment effect of the program (on the poor) in a difference-in-differences framework. Include at least 5 control variables.\n",
    "\n",
    "* What is your estimate of the impact of Progresa? Be very specific in interpreting your coefficients and standard errors, and make sure to specify exactly what units you are measuring and estimating.\n",
    "* How do these estimates of the treatment effect compare to the estimates based on the simple difference?\n",
    "* How do these estimates compare to the difference-in-difference estimates from 2.4 above? What accounts for these differences?\n",
    "* What is the counterfactual assumption underlying this regression? "
   ]
  },
  {
   "cell_type": "code",
   "execution_count": 324,
   "metadata": {
    "autoscroll": "json-false",
    "collapsed": false,
    "ein.tags": [
     "worksheet-0"
    ],
    "slideshow": {
     "slide_type": "-"
    }
   },
   "outputs": [
    {
     "data": {
      "text/html": [
       "<table class=\"simpletable\">\n",
       "<caption>OLS Regression Results</caption>\n",
       "<tr>\n",
       "  <th>Dep. Variable:</th>           <td>sc</td>        <th>  R-squared:         </th> <td>   0.283</td> \n",
       "</tr>\n",
       "<tr>\n",
       "  <th>Model:</th>                   <td>OLS</td>       <th>  Adj. R-squared:    </th> <td>   0.283</td> \n",
       "</tr>\n",
       "<tr>\n",
       "  <th>Method:</th>             <td>Least Squares</td>  <th>  F-statistic:       </th> <td>   1914.</td> \n",
       "</tr>\n",
       "<tr>\n",
       "  <th>Date:</th>             <td>Mon, 01 May 2017</td> <th>  Prob (F-statistic):</th>  <td>  0.00</td>  \n",
       "</tr>\n",
       "<tr>\n",
       "  <th>Time:</th>                 <td>22:26:55</td>     <th>  Log-Likelihood:    </th> <td> -16535.</td> \n",
       "</tr>\n",
       "<tr>\n",
       "  <th>No. Observations:</th>      <td> 58157</td>      <th>  AIC:               </th> <td>3.310e+04</td>\n",
       "</tr>\n",
       "<tr>\n",
       "  <th>Df Residuals:</th>          <td> 58144</td>      <th>  BIC:               </th> <td>3.321e+04</td>\n",
       "</tr>\n",
       "<tr>\n",
       "  <th>Df Model:</th>              <td>    12</td>      <th>                     </th>     <td> </td>    \n",
       "</tr>\n",
       "<tr>\n",
       "  <th>Covariance Type:</th>      <td>nonrobust</td>    <th>                     </th>     <td> </td>    \n",
       "</tr>\n",
       "</table>\n",
       "<table class=\"simpletable\">\n",
       "<tr>\n",
       "             <td></td>                <th>coef</th>     <th>std err</th>      <th>t</th>      <th>P>|t|</th> <th>[95.0% Conf. Int.]</th> \n",
       "</tr>\n",
       "<tr>\n",
       "  <th>Intercept</th>               <td>    1.4253</td> <td>    0.010</td> <td>  145.669</td> <td> 0.000</td> <td>    1.406     1.444</td>\n",
       "</tr>\n",
       "<tr>\n",
       "  <th>progresa[T.basal]</th>       <td>    0.0033</td> <td>    0.004</td> <td>    0.864</td> <td> 0.388</td> <td>   -0.004     0.011</td>\n",
       "</tr>\n",
       "<tr>\n",
       "  <th>treat</th>                   <td>    0.0273</td> <td>    0.004</td> <td>    6.291</td> <td> 0.000</td> <td>    0.019     0.036</td>\n",
       "</tr>\n",
       "<tr>\n",
       "  <th>progresa[T.basal]:treat</th> <td>    0.0313</td> <td>    0.006</td> <td>    5.687</td> <td> 0.000</td> <td>    0.021     0.042</td>\n",
       "</tr>\n",
       "<tr>\n",
       "  <th>age</th>                     <td>   -0.0658</td> <td>    0.000</td> <td> -143.746</td> <td> 0.000</td> <td>   -0.067    -0.065</td>\n",
       "</tr>\n",
       "<tr>\n",
       "  <th>dist_cap</th>                <td>    0.0002</td> <td> 2.55e-05</td> <td>    7.362</td> <td> 0.000</td> <td>    0.000     0.000</td>\n",
       "</tr>\n",
       "<tr>\n",
       "  <th>dist_sec</th>                <td>   -0.0097</td> <td>    0.001</td> <td>  -15.694</td> <td> 0.000</td> <td>   -0.011    -0.009</td>\n",
       "</tr>\n",
       "<tr>\n",
       "  <th>sex</th>                     <td>    0.0332</td> <td>    0.003</td> <td>   12.455</td> <td> 0.000</td> <td>    0.028     0.038</td>\n",
       "</tr>\n",
       "<tr>\n",
       "  <th>hohedu</th>                  <td>    0.0074</td> <td>    0.001</td> <td>   12.611</td> <td> 0.000</td> <td>    0.006     0.009</td>\n",
       "</tr>\n",
       "<tr>\n",
       "  <th>indig</th>                   <td>    0.0240</td> <td>    0.003</td> <td>    7.379</td> <td> 0.000</td> <td>    0.018     0.030</td>\n",
       "</tr>\n",
       "<tr>\n",
       "  <th>fam_n</th>                   <td>   -0.0001</td> <td>    0.001</td> <td>   -0.203</td> <td> 0.839</td> <td>   -0.001     0.001</td>\n",
       "</tr>\n",
       "<tr>\n",
       "  <th>min_dist</th>                <td>    0.0004</td> <td> 4.39e-05</td> <td>    8.429</td> <td> 0.000</td> <td>    0.000     0.000</td>\n",
       "</tr>\n",
       "<tr>\n",
       "  <th>hohage</th>                  <td>    0.0003</td> <td>    0.000</td> <td>    2.102</td> <td> 0.036</td> <td> 1.85e-05     0.001</td>\n",
       "</tr>\n",
       "</table>\n",
       "<table class=\"simpletable\">\n",
       "<tr>\n",
       "  <th>Omnibus:</th>       <td>5449.719</td> <th>  Durbin-Watson:     </th> <td>   1.492</td>\n",
       "</tr>\n",
       "<tr>\n",
       "  <th>Prob(Omnibus):</th>  <td> 0.000</td>  <th>  Jarque-Bera (JB):  </th> <td>7147.735</td>\n",
       "</tr>\n",
       "<tr>\n",
       "  <th>Skew:</th>           <td>-0.857</td>  <th>  Prob(JB):          </th> <td>    0.00</td>\n",
       "</tr>\n",
       "<tr>\n",
       "  <th>Kurtosis:</th>       <td> 3.106</td>  <th>  Cond. No.          </th> <td>1.56e+03</td>\n",
       "</tr>\n",
       "</table>"
      ],
      "text/plain": [
       "<class 'statsmodels.iolib.summary.Summary'>\n",
       "\"\"\"\n",
       "                            OLS Regression Results                            \n",
       "==============================================================================\n",
       "Dep. Variable:                     sc   R-squared:                       0.283\n",
       "Model:                            OLS   Adj. R-squared:                  0.283\n",
       "Method:                 Least Squares   F-statistic:                     1914.\n",
       "Date:                Mon, 01 May 2017   Prob (F-statistic):               0.00\n",
       "Time:                        22:26:55   Log-Likelihood:                -16535.\n",
       "No. Observations:               58157   AIC:                         3.310e+04\n",
       "Df Residuals:                   58144   BIC:                         3.321e+04\n",
       "Df Model:                          12                                         \n",
       "Covariance Type:            nonrobust                                         \n",
       "===========================================================================================\n",
       "                              coef    std err          t      P>|t|      [95.0% Conf. Int.]\n",
       "-------------------------------------------------------------------------------------------\n",
       "Intercept                   1.4253      0.010    145.669      0.000         1.406     1.444\n",
       "progresa[T.basal]           0.0033      0.004      0.864      0.388        -0.004     0.011\n",
       "treat                       0.0273      0.004      6.291      0.000         0.019     0.036\n",
       "progresa[T.basal]:treat     0.0313      0.006      5.687      0.000         0.021     0.042\n",
       "age                        -0.0658      0.000   -143.746      0.000        -0.067    -0.065\n",
       "dist_cap                    0.0002   2.55e-05      7.362      0.000         0.000     0.000\n",
       "dist_sec                   -0.0097      0.001    -15.694      0.000        -0.011    -0.009\n",
       "sex                         0.0332      0.003     12.455      0.000         0.028     0.038\n",
       "hohedu                      0.0074      0.001     12.611      0.000         0.006     0.009\n",
       "indig                       0.0240      0.003      7.379      0.000         0.018     0.030\n",
       "fam_n                      -0.0001      0.001     -0.203      0.839        -0.001     0.001\n",
       "min_dist                    0.0004   4.39e-05      8.429      0.000         0.000     0.000\n",
       "hohage                      0.0003      0.000      2.102      0.036      1.85e-05     0.001\n",
       "==============================================================================\n",
       "Omnibus:                     5449.719   Durbin-Watson:                   1.492\n",
       "Prob(Omnibus):                  0.000   Jarque-Bera (JB):             7147.735\n",
       "Skew:                          -0.857   Prob(JB):                         0.00\n",
       "Kurtosis:                       3.106   Cond. No.                     1.56e+03\n",
       "==============================================================================\n",
       "\n",
       "Warnings:\n",
       "[1] Standard Errors assume that the covariance matrix of the errors is correctly specified.\n",
       "[2] The condition number is large, 1.56e+03. This might indicate that there are\n",
       "strong multicollinearity or other numerical problems.\n",
       "\"\"\""
      ]
     },
     "execution_count": 324,
     "metadata": {},
     "output_type": "execute_result"
    }
   ],
   "source": [
    "prog_df= pd.read_csv('progresa_sample.csv')\n",
    "\n",
    "prog_df.loc[prog_df.year == 97, 'treat'] = 0\n",
    "prog_df.loc[prog_df.year == 98, 'treat'] = 1\n",
    "\n",
    "prog_poor = prog_df[prog_df.poor == 'pobre']\n",
    "\n",
    "#Regression with progresa, post, progresa*treat(interaction) and 5 control variables\n",
    "did_lm = sm.ols(formula='sc ~ progresa + treat + progresa:treat + age + dist_cap + dist_sec + sex + hohedu +indig + fam_n + min_dist +hohage', data=prog_poor).fit()\n",
    "did_lm.summary()\n",
    "\n"
   ]
  },
  {
   "cell_type": "markdown",
   "metadata": {},
   "source": [
    "What is your estimate of the impact of Progresa? Be very specific in interpreting your coefficients and standard errors, and make sure to specify exactly what units you are measuring and estimating.\n",
    "     To initiate the regression, I created binary variable for year and progresa, which was needed to evaluate estimates using the difference in difference approach. Post that, considering the interaction of effect between the treatment term and the year, I created the treat variable as progresa:treat. \n",
    "     Interpretting \"progresa:treat\" interaction coefficient - For all families in 1998 that were treated with the progresa program, the average enrollment rates would be 0.0313 higher that the ones not treated. \n",
    "     Interpretting \"treat\" coefficient: For 1998, the average enrollment rate is slihtly higher than in 1997 by \n",
    "0.0273. Howeer the progresa coefficient it is no longer statistically significant with 0.388 p value.\n",
    "\n",
    "How do these estimates of the treatment effect compare to the estimates based on the simple difference?\n",
    "    The impact estimation of the double difference model is lower than that of simple difference. this is mostly because of the lack of considering all the different players in the simple difference model. Due to that we are getting higher estimates than the true impact values.\n",
    "    \n",
    "How do these estimates compare to the difference-in-difference estimates from 2.4 above? What accounts for these differences?\n",
    "    The overall impact is more or less similar to that of 2.4 except that we have introduced the term treat (treatment with respect to time) for considerationand its interaction with the progresa treatment. Also, we do notice some differences by introduction of control variables.\n",
    "    \n",
    "What is the counterfactual assumption underlying this regression? \n",
    "    The counterfactual assumption is that the trends in treatment group and control group would have been the same in the absence of treatment."
   ]
  },
  {
   "cell_type": "markdown",
   "metadata": {
    "ein.tags": [
     "worksheet-0"
    ],
    "slideshow": {
     "slide_type": "-"
    }
   },
   "source": [
    "### 2.6 Difference-in-Difference, version 2\n",
    "\n",
    "In the previous problem, you estimated a difference-in-differences model that compared changes in enrollment rates over time across treatment and control villages. An alternative approach would be to compare enrollment rates in 1998 between poor and non-poor across treatment and control villages. \n",
    "\n",
    "* How would we estimate this version of the treatment effects in a regression model? \n",
    "* What is the counterfactual assumption underlying this regression?\n",
    "* How do these treatment effects compare to the estimates above?\n",
    "* Discuss some possible explanations for differences or similarities "
   ]
  },
  {
   "cell_type": "code",
   "execution_count": 327,
   "metadata": {
    "autoscroll": "json-false",
    "collapsed": false,
    "ein.tags": [
     "worksheet-0"
    ],
    "slideshow": {
     "slide_type": "-"
    }
   },
   "outputs": [
    {
     "data": {
      "text/html": [
       "<table class=\"simpletable\">\n",
       "<caption>OLS Regression Results</caption>\n",
       "<tr>\n",
       "  <th>Dep. Variable:</th>           <td>sc</td>        <th>  R-squared:         </th> <td>   0.274</td> \n",
       "</tr>\n",
       "<tr>\n",
       "  <th>Model:</th>                   <td>OLS</td>       <th>  Adj. R-squared:    </th> <td>   0.274</td> \n",
       "</tr>\n",
       "<tr>\n",
       "  <th>Method:</th>             <td>Least Squares</td>  <th>  F-statistic:       </th> <td>   1344.</td> \n",
       "</tr>\n",
       "<tr>\n",
       "  <th>Date:</th>             <td>Mon, 01 May 2017</td> <th>  Prob (F-statistic):</th>  <td>  0.00</td>  \n",
       "</tr>\n",
       "<tr>\n",
       "  <th>Time:</th>                 <td>22:54:52</td>     <th>  Log-Likelihood:    </th> <td> -9237.3</td> \n",
       "</tr>\n",
       "<tr>\n",
       "  <th>No. Observations:</th>      <td> 32097</td>      <th>  AIC:               </th> <td>1.849e+04</td>\n",
       "</tr>\n",
       "<tr>\n",
       "  <th>Df Residuals:</th>          <td> 32087</td>      <th>  BIC:               </th> <td>1.858e+04</td>\n",
       "</tr>\n",
       "<tr>\n",
       "  <th>Df Model:</th>              <td>     9</td>      <th>                     </th>     <td> </td>    \n",
       "</tr>\n",
       "<tr>\n",
       "  <th>Covariance Type:</th>      <td>nonrobust</td>    <th>                     </th>     <td> </td>    \n",
       "</tr>\n",
       "</table>\n",
       "<table class=\"simpletable\">\n",
       "<tr>\n",
       "                 <td></td>                    <th>coef</th>     <th>std err</th>      <th>t</th>      <th>P>|t|</th> <th>[95.0% Conf. Int.]</th> \n",
       "</tr>\n",
       "<tr>\n",
       "  <th>Intercept</th>                       <td>    1.4816</td> <td>    0.012</td> <td>  122.903</td> <td> 0.000</td> <td>    1.458     1.505</td>\n",
       "</tr>\n",
       "<tr>\n",
       "  <th>progresa[T.basal]</th>               <td>    0.0250</td> <td>    0.010</td> <td>    2.583</td> <td> 0.010</td> <td>    0.006     0.044</td>\n",
       "</tr>\n",
       "<tr>\n",
       "  <th>poor[T.pobre]</th>                   <td>   -0.0211</td> <td>    0.008</td> <td>   -2.558</td> <td> 0.011</td> <td>   -0.037    -0.005</td>\n",
       "</tr>\n",
       "<tr>\n",
       "  <th>progresa[T.basal]:poor[T.pobre]</th> <td>    0.0094</td> <td>    0.010</td> <td>    0.894</td> <td> 0.371</td> <td>   -0.011     0.030</td>\n",
       "</tr>\n",
       "<tr>\n",
       "  <th>sex</th>                             <td>    0.0306</td> <td>    0.004</td> <td>    8.493</td> <td> 0.000</td> <td>    0.024     0.038</td>\n",
       "</tr>\n",
       "<tr>\n",
       "  <th>dist_sec</th>                        <td>   -0.0105</td> <td>    0.001</td> <td>  -12.741</td> <td> 0.000</td> <td>   -0.012    -0.009</td>\n",
       "</tr>\n",
       "<tr>\n",
       "  <th>min_dist</th>                        <td>    0.0003</td> <td> 5.92e-05</td> <td>    5.736</td> <td> 0.000</td> <td>    0.000     0.000</td>\n",
       "</tr>\n",
       "<tr>\n",
       "  <th>dist_cap</th>                        <td>    0.0003</td> <td> 3.28e-05</td> <td>    9.368</td> <td> 0.000</td> <td>    0.000     0.000</td>\n",
       "</tr>\n",
       "<tr>\n",
       "  <th>hohedu</th>                          <td>    0.0085</td> <td>    0.001</td> <td>   12.210</td> <td> 0.000</td> <td>    0.007     0.010</td>\n",
       "</tr>\n",
       "<tr>\n",
       "  <th>age</th>                             <td>   -0.0661</td> <td>    0.001</td> <td> -103.966</td> <td> 0.000</td> <td>   -0.067    -0.065</td>\n",
       "</tr>\n",
       "</table>\n",
       "<table class=\"simpletable\">\n",
       "<tr>\n",
       "  <th>Omnibus:</th>       <td>3179.660</td> <th>  Durbin-Watson:     </th> <td>   1.732</td>\n",
       "</tr>\n",
       "<tr>\n",
       "  <th>Prob(Omnibus):</th>  <td> 0.000</td>  <th>  Jarque-Bera (JB):  </th> <td>4231.906</td>\n",
       "</tr>\n",
       "<tr>\n",
       "  <th>Skew:</th>           <td>-0.888</td>  <th>  Prob(JB):          </th> <td>    0.00</td>\n",
       "</tr>\n",
       "<tr>\n",
       "  <th>Kurtosis:</th>       <td> 3.111</td>  <th>  Cond. No.          </th> <td>1.92e+03</td>\n",
       "</tr>\n",
       "</table>"
      ],
      "text/plain": [
       "<class 'statsmodels.iolib.summary.Summary'>\n",
       "\"\"\"\n",
       "                            OLS Regression Results                            \n",
       "==============================================================================\n",
       "Dep. Variable:                     sc   R-squared:                       0.274\n",
       "Model:                            OLS   Adj. R-squared:                  0.274\n",
       "Method:                 Least Squares   F-statistic:                     1344.\n",
       "Date:                Mon, 01 May 2017   Prob (F-statistic):               0.00\n",
       "Time:                        22:54:52   Log-Likelihood:                -9237.3\n",
       "No. Observations:               32097   AIC:                         1.849e+04\n",
       "Df Residuals:                   32087   BIC:                         1.858e+04\n",
       "Df Model:                           9                                         \n",
       "Covariance Type:            nonrobust                                         \n",
       "===================================================================================================\n",
       "                                      coef    std err          t      P>|t|      [95.0% Conf. Int.]\n",
       "---------------------------------------------------------------------------------------------------\n",
       "Intercept                           1.4816      0.012    122.903      0.000         1.458     1.505\n",
       "progresa[T.basal]                   0.0250      0.010      2.583      0.010         0.006     0.044\n",
       "poor[T.pobre]                      -0.0211      0.008     -2.558      0.011        -0.037    -0.005\n",
       "progresa[T.basal]:poor[T.pobre]     0.0094      0.010      0.894      0.371        -0.011     0.030\n",
       "sex                                 0.0306      0.004      8.493      0.000         0.024     0.038\n",
       "dist_sec                           -0.0105      0.001    -12.741      0.000        -0.012    -0.009\n",
       "min_dist                            0.0003   5.92e-05      5.736      0.000         0.000     0.000\n",
       "dist_cap                            0.0003   3.28e-05      9.368      0.000         0.000     0.000\n",
       "hohedu                              0.0085      0.001     12.210      0.000         0.007     0.010\n",
       "age                                -0.0661      0.001   -103.966      0.000        -0.067    -0.065\n",
       "==============================================================================\n",
       "Omnibus:                     3179.660   Durbin-Watson:                   1.732\n",
       "Prob(Omnibus):                  0.000   Jarque-Bera (JB):             4231.906\n",
       "Skew:                          -0.888   Prob(JB):                         0.00\n",
       "Kurtosis:                       3.111   Cond. No.                     1.92e+03\n",
       "==============================================================================\n",
       "\n",
       "Warnings:\n",
       "[1] Standard Errors assume that the covariance matrix of the errors is correctly specified.\n",
       "[2] The condition number is large, 1.92e+03. This might indicate that there are\n",
       "strong multicollinearity or other numerical problems.\n",
       "\"\"\""
      ]
     },
     "execution_count": 327,
     "metadata": {},
     "output_type": "execute_result"
    }
   ],
   "source": [
    "prog98 = prog_df[prog_df['treat'] == 1]\n",
    "dd_lm = sm.ols(formula = 'sc ~ progresa + poor + progresa:poor + sex + dist_sec  + min_dist + dist_cap + hohedu + age', data=prog98).fit()\n",
    "dd_lm.summary()"
   ]
  },
  {
   "cell_type": "markdown",
   "metadata": {},
   "source": [
    "How would we estimate this version of the treatment effects in a regression model? \n",
    "    This time we add an interaction term between progresa and poor, we get the following resuls: \n",
    "    -The interaction between progresa:poor['pobre'] is not statistically significant. \n",
    "    -Other variables like, 'Progresa' have a coefficient of 0.0250 which signifies the impact of households recieving the progresa benefits would result in the increasing the average enrollment rate by 0.0250. \n",
    "    -'Poor' coefficient value is -0.0211 i.e. poor households would have lower average enrollment rates (by 0.0211).\n",
    "\n",
    "What is the counterfactual assumption underlying this regression?\n",
    "    The counterfactual assumption underlying this regression model is that in the absence of treatment effect, the average enrollment rates across poor and non-poor households remains the same.\n",
    "\n",
    "How do these treatment effects compare to the estimates above?\n",
    "    Comparing the treatment effects to the above estimates we see both are slightly different. The p value for the interaction term is statistically insignificant and the coefficient for control variable \"poor\" in this case is negative. We might be observing above differences because only poor households are expected to be a part of the progresa program and not the non-poor households which is not the actual test case.\n",
    "    \n",
    "Discuss some possible explanations for differences or similarities.\n",
    "    We see that some of the differences are statistical insignificance spl. that of the interaction term and we observe a  negative coefficient for the poor variable. We might be observing above differences because only poor households are expected to be a part of the progresa program and not the non-poor households which is not the actual test case."
   ]
  },
  {
   "cell_type": "markdown",
   "metadata": {
    "ein.tags": [
     "worksheet-0"
    ],
    "slideshow": {
     "slide_type": "-"
    }
   },
   "source": [
    "### 2.7 Spillover effects (extra credit)\n",
    "\n",
    "Thus far, we have focused on the impact of PROGRESA on poor households. Repeat your analysis in 2.5, using a double-difference regression to estimate the impact of PROGRESA on non-poor households. In other words, compare the difference in enrollments between 1997 and 1998 for non-poor households in treatment villages with the difference in enrollments between 1997 and 1998 for non-poor households in control villages.\n",
    "\n",
    "* A: Describe one or two reasons why PROGRESA might have impacted non-poor households.\n",
    "* B: Do you observe any impacts of PROGRESA on the non-poor?\n",
    "* C: What is the identifying assumption that you are using to estimate the impact of PROGRESA on non-poor households."
   ]
  },
  {
   "cell_type": "code",
   "execution_count": 328,
   "metadata": {
    "collapsed": false
   },
   "outputs": [
    {
     "data": {
      "text/html": [
       "<table class=\"simpletable\">\n",
       "<caption>OLS Regression Results</caption>\n",
       "<tr>\n",
       "  <th>Dep. Variable:</th>           <td>sc</td>        <th>  R-squared:         </th> <td>   0.292</td>\n",
       "</tr>\n",
       "<tr>\n",
       "  <th>Model:</th>                   <td>OLS</td>       <th>  Adj. R-squared:    </th> <td>   0.292</td>\n",
       "</tr>\n",
       "<tr>\n",
       "  <th>Method:</th>             <td>Least Squares</td>  <th>  F-statistic:       </th> <td>   356.9</td>\n",
       "</tr>\n",
       "<tr>\n",
       "  <th>Date:</th>             <td>Mon, 01 May 2017</td> <th>  Prob (F-statistic):</th>  <td>  0.00</td> \n",
       "</tr>\n",
       "<tr>\n",
       "  <th>Time:</th>                 <td>23:04:12</td>     <th>  Log-Likelihood:    </th> <td> -3637.0</td>\n",
       "</tr>\n",
       "<tr>\n",
       "  <th>No. Observations:</th>      <td> 10378</td>      <th>  AIC:               </th> <td>   7300.</td>\n",
       "</tr>\n",
       "<tr>\n",
       "  <th>Df Residuals:</th>          <td> 10365</td>      <th>  BIC:               </th> <td>   7394.</td>\n",
       "</tr>\n",
       "<tr>\n",
       "  <th>Df Model:</th>              <td>    12</td>      <th>                     </th>     <td> </td>   \n",
       "</tr>\n",
       "<tr>\n",
       "  <th>Covariance Type:</th>      <td>nonrobust</td>    <th>                     </th>     <td> </td>   \n",
       "</tr>\n",
       "</table>\n",
       "<table class=\"simpletable\">\n",
       "<tr>\n",
       "             <td></td>                <th>coef</th>     <th>std err</th>      <th>t</th>      <th>P>|t|</th> <th>[95.0% Conf. Int.]</th> \n",
       "</tr>\n",
       "<tr>\n",
       "  <th>Intercept</th>               <td>    1.5092</td> <td>    0.026</td> <td>   58.263</td> <td> 0.000</td> <td>    1.458     1.560</td>\n",
       "</tr>\n",
       "<tr>\n",
       "  <th>progresa[T.basal]</th>       <td>    0.0241</td> <td>    0.009</td> <td>    2.599</td> <td> 0.009</td> <td>    0.006     0.042</td>\n",
       "</tr>\n",
       "<tr>\n",
       "  <th>treat</th>                   <td>    0.0398</td> <td>    0.011</td> <td>    3.696</td> <td> 0.000</td> <td>    0.019     0.061</td>\n",
       "</tr>\n",
       "<tr>\n",
       "  <th>progresa[T.basal]:treat</th> <td>   -0.0030</td> <td>    0.014</td> <td>   -0.217</td> <td> 0.828</td> <td>   -0.030     0.024</td>\n",
       "</tr>\n",
       "<tr>\n",
       "  <th>age</th>                     <td>   -0.0687</td> <td>    0.001</td> <td>  -60.088</td> <td> 0.000</td> <td>   -0.071    -0.066</td>\n",
       "</tr>\n",
       "<tr>\n",
       "  <th>dist_cap</th>                <td>    0.0006</td> <td> 7.62e-05</td> <td>    8.185</td> <td> 0.000</td> <td>    0.000     0.001</td>\n",
       "</tr>\n",
       "<tr>\n",
       "  <th>dist_sec</th>                <td>   -0.0155</td> <td>    0.002</td> <td>   -8.775</td> <td> 0.000</td> <td>   -0.019    -0.012</td>\n",
       "</tr>\n",
       "<tr>\n",
       "  <th>sex</th>                     <td>    0.0296</td> <td>    0.007</td> <td>    4.384</td> <td> 0.000</td> <td>    0.016     0.043</td>\n",
       "</tr>\n",
       "<tr>\n",
       "  <th>hohedu</th>                  <td>    0.0087</td> <td>    0.001</td> <td>    7.283</td> <td> 0.000</td> <td>    0.006     0.011</td>\n",
       "</tr>\n",
       "<tr>\n",
       "  <th>indig</th>                   <td>    0.0142</td> <td>    0.010</td> <td>    1.364</td> <td> 0.173</td> <td>   -0.006     0.035</td>\n",
       "</tr>\n",
       "<tr>\n",
       "  <th>fam_n</th>                   <td>   -0.0048</td> <td>    0.001</td> <td>   -3.276</td> <td> 0.001</td> <td>   -0.008    -0.002</td>\n",
       "</tr>\n",
       "<tr>\n",
       "  <th>min_dist</th>                <td>   -0.0001</td> <td>    0.000</td> <td>   -0.944</td> <td> 0.345</td> <td>   -0.000     0.000</td>\n",
       "</tr>\n",
       "<tr>\n",
       "  <th>hohage</th>                  <td>    0.0002</td> <td>    0.000</td> <td>    0.585</td> <td> 0.559</td> <td>   -0.000     0.001</td>\n",
       "</tr>\n",
       "</table>\n",
       "<table class=\"simpletable\">\n",
       "<tr>\n",
       "  <th>Omnibus:</th>       <td>845.657</td> <th>  Durbin-Watson:     </th> <td>   1.506</td> \n",
       "</tr>\n",
       "<tr>\n",
       "  <th>Prob(Omnibus):</th> <td> 0.000</td>  <th>  Jarque-Bera (JB):  </th> <td> 799.723</td> \n",
       "</tr>\n",
       "<tr>\n",
       "  <th>Skew:</th>          <td>-0.618</td>  <th>  Prob(JB):          </th> <td>2.20e-174</td>\n",
       "</tr>\n",
       "<tr>\n",
       "  <th>Kurtosis:</th>      <td> 2.434</td>  <th>  Cond. No.          </th> <td>1.37e+03</td> \n",
       "</tr>\n",
       "</table>"
      ],
      "text/plain": [
       "<class 'statsmodels.iolib.summary.Summary'>\n",
       "\"\"\"\n",
       "                            OLS Regression Results                            \n",
       "==============================================================================\n",
       "Dep. Variable:                     sc   R-squared:                       0.292\n",
       "Model:                            OLS   Adj. R-squared:                  0.292\n",
       "Method:                 Least Squares   F-statistic:                     356.9\n",
       "Date:                Mon, 01 May 2017   Prob (F-statistic):               0.00\n",
       "Time:                        23:04:12   Log-Likelihood:                -3637.0\n",
       "No. Observations:               10378   AIC:                             7300.\n",
       "Df Residuals:                   10365   BIC:                             7394.\n",
       "Df Model:                          12                                         \n",
       "Covariance Type:            nonrobust                                         \n",
       "===========================================================================================\n",
       "                              coef    std err          t      P>|t|      [95.0% Conf. Int.]\n",
       "-------------------------------------------------------------------------------------------\n",
       "Intercept                   1.5092      0.026     58.263      0.000         1.458     1.560\n",
       "progresa[T.basal]           0.0241      0.009      2.599      0.009         0.006     0.042\n",
       "treat                       0.0398      0.011      3.696      0.000         0.019     0.061\n",
       "progresa[T.basal]:treat    -0.0030      0.014     -0.217      0.828        -0.030     0.024\n",
       "age                        -0.0687      0.001    -60.088      0.000        -0.071    -0.066\n",
       "dist_cap                    0.0006   7.62e-05      8.185      0.000         0.000     0.001\n",
       "dist_sec                   -0.0155      0.002     -8.775      0.000        -0.019    -0.012\n",
       "sex                         0.0296      0.007      4.384      0.000         0.016     0.043\n",
       "hohedu                      0.0087      0.001      7.283      0.000         0.006     0.011\n",
       "indig                       0.0142      0.010      1.364      0.173        -0.006     0.035\n",
       "fam_n                      -0.0048      0.001     -3.276      0.001        -0.008    -0.002\n",
       "min_dist                   -0.0001      0.000     -0.944      0.345        -0.000     0.000\n",
       "hohage                      0.0002      0.000      0.585      0.559        -0.000     0.001\n",
       "==============================================================================\n",
       "Omnibus:                      845.657   Durbin-Watson:                   1.506\n",
       "Prob(Omnibus):                  0.000   Jarque-Bera (JB):              799.723\n",
       "Skew:                          -0.618   Prob(JB):                    2.20e-174\n",
       "Kurtosis:                       2.434   Cond. No.                     1.37e+03\n",
       "==============================================================================\n",
       "\n",
       "Warnings:\n",
       "[1] Standard Errors assume that the covariance matrix of the errors is correctly specified.\n",
       "[2] The condition number is large, 1.37e+03. This might indicate that there are\n",
       "strong multicollinearity or other numerical problems.\n",
       "\"\"\""
      ]
     },
     "execution_count": 328,
     "metadata": {},
     "output_type": "execute_result"
    }
   ],
   "source": [
    "prog_df= pd.read_csv('progresa_sample.csv')\n",
    "\n",
    "prog_df.loc[prog_df.year == 97, 'treat'] = 0\n",
    "prog_df.loc[prog_df.year == 98, 'treat'] = 1\n",
    "\n",
    "prog_nonpoor = prog_df[prog_df.poor != 'pobre']\n",
    "\n",
    "#Regression with progresa, post, progresa*treat(interaction) and 9 control variables\n",
    "did_lm = sm.ols(formula='sc ~ progresa + treat + progresa:treat + age + dist_cap + dist_sec + sex + hohedu +indig + fam_n + min_dist +hohage', data=prog_nonpoor).fit()\n",
    "did_lm.summary()"
   ]
  },
  {
   "cell_type": "markdown",
   "metadata": {},
   "source": [
    "Describe one or two reasons why PROGRESA might have impacted non-poor households.\n",
    "    Two reasons why progresa might have impacted non-poor households are:\n",
    "        1. Corruptive practices where some  7116 non-poor households received the progresa benefit.\n",
    "        2. Peer relation-reaction or near poor houses would have been influence by the improvement of enrollement of kids of poor households.\n",
    "        \n",
    "Do you observe any impacts of PROGRESA on the non-poor?\n",
    "    Yes - there is significant impact of progresa on the non-poor households. The average enrollment rates increases by 0.0387 for the non poor households during the progressa treatment period.\n",
    "\n",
    "What is the identifying assumption that you are using to estimate the impact of PROGRESA on non-poor households.\n",
    "    The identifying assumption for estimating the impact of PROGRESA on non-poor households is that non poor households should not have recieved any treatment during the study and progresa treatement has no effect on non poor households."
   ]
  },
  {
   "cell_type": "markdown",
   "metadata": {
    "ein.tags": [
     "worksheet-0"
    ],
    "slideshow": {
     "slide_type": "-"
    }
   },
   "source": [
    "### 2.8 Summary\n",
    "\n",
    "Based on all the analysis you have undertaken to date, do you thik that Progresa had a causal impact on the enrollment rates of poor households in Mexico?"
   ]
  },
  {
   "cell_type": "markdown",
   "metadata": {
    "autoscroll": "json-false",
    "collapsed": false,
    "ein.tags": [
     "worksheet-0"
    ],
    "slideshow": {
     "slide_type": "-"
    }
   },
   "source": [
    "From all the analysis we can safely say that progresa program did have causal impact on the enrollment rates of the poor households in Mexico, atleast in 1998 and the treatment effect may have lead to overall increase in enrollment rate across both treatment and control villages. However, the impact was not very high.\n",
    "\n",
    "From the regression models, we understood that there are multiple things to consider to ensure the impact of the program is accurately quantified and projected. We know that the selection process was randomized was implemented without intended flaws however there were differences at the start of the treatement cycles. Still since the difference was small, assuming that the study was conducted with good randomization and the treatment and control groups did not differ significantly allowed us to measure the causal impact.\n",
    "\n",
    "Basically we know now that progresa was a good program, great start since it affected poor and non poor families as well as treatment and non treatment villages. Hence if the program had continued post 2000 it would have helped the government of Mexico attain high enrollement rates for poor households."
   ]
  }
 ],
 "metadata": {
  "kernelspec": {
   "display_name": "Python 2",
   "language": "python",
   "name": "python2"
  },
  "language_info": {
   "codemirror_mode": {
    "name": "ipython",
    "version": 2
   },
   "file_extension": ".py",
   "mimetype": "text/x-python",
   "name": "python",
   "nbconvert_exporter": "python",
   "pygments_lexer": "ipython2",
   "version": "2.7.13"
  },
  "name": "ps2.ipynb"
 },
 "nbformat": 4,
 "nbformat_minor": 2
}
